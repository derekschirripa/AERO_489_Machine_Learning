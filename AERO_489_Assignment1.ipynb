{
  "nbformat": 4,
  "nbformat_minor": 0,
  "metadata": {
    "colab": {
      "provenance": [],
      "authorship_tag": "ABX9TyOz/W0lRzJ7nfjn2KwmEJvA",
      "include_colab_link": true
    },
    "kernelspec": {
      "name": "python3",
      "display_name": "Python 3"
    },
    "language_info": {
      "name": "python"
    }
  },
  "cells": [
    {
      "cell_type": "markdown",
      "metadata": {
        "id": "view-in-github",
        "colab_type": "text"
      },
      "source": [
        "<a href=\"https://colab.research.google.com/github/derekschirripa/AERO_489_Machine_Learning/blob/main/AERO_489_Assignment1.ipynb\" target=\"_parent\"><img src=\"https://colab.research.google.com/assets/colab-badge.svg\" alt=\"Open In Colab\"/></a>"
      ]
    },
    {
      "cell_type": "code",
      "execution_count": 1,
      "metadata": {
        "id": "rwzFTWy9T7-7"
      },
      "outputs": [],
      "source": [
        "import numpy as np\n",
        "import cvxpy as cp\n",
        "import matplotlib.pyplot as plt\n"
      ]
    },
    {
      "cell_type": "markdown",
      "source": [
        "Step 1: Create the node matrix which will place the nodes at an equidistant location to all of its neighboring nodes and then the connectivity matrix that will generate the members for each node."
      ],
      "metadata": {
        "id": "u8ZOqdaerTNE"
      }
    },
    {
      "cell_type": "code",
      "source": [
        "def node_matrix(width, height, dx):\n",
        "    x_coords = np.arange(0, width + dx, dx)\n",
        "    y_coords = np.arange(0, height + dx, dx) #x and y spacing are equidistant in this project\n",
        "    N = np.array([(x, y) for y in y_coords for x in x_coords])\n",
        "    return N.T\n",
        "\n",
        "def connectivity_matrix(width, height, dx):\n",
        "    N = node_matrix(width, height, dx)\n",
        "    num_nodes = N.shape[1]\n",
        "\n",
        "    members = []\n",
        "    for i, node in enumerate(N.T):\n",
        "        x, y = node\n",
        "        if x < width:  # Connect to right neighbor\n",
        "            right_neighbor = np.where((N[0] == x + dx) & (N[1] == y))[0]\n",
        "            if right_neighbor:\n",
        "                members.append((i, right_neighbor[0]))\n",
        "        if y < height:  # Connect to upper neighbor\n",
        "            upper_neighbor = np.where((N[0] == x) & (N[1] == y + dx))[0]\n",
        "            if upper_neighbor:\n",
        "                members.append((i, upper_neighbor[0]))\n",
        "        if x < width and y < height:  # Connect to upper-right neighbor (diagonal)\n",
        "            upper_right_neighbor = np.where((N[0] == x + dx) & (N[1] == y + dx))[0]\n",
        "            if upper_right_neighbor:\n",
        "                members.append((i, upper_right_neighbor[0]))\n",
        "        if x < width and y > 0:  # Connect to lower-right neighbor (diagonal)\n",
        "            lower_right_neighbor = np.where((N[0] == x + dx) & (N[1] == y - dx))[0]\n",
        "            if lower_right_neighbor:\n",
        "                members.append((i, lower_right_neighbor[0]))\n",
        "\n",
        "    C = np.zeros((len(members), num_nodes))\n",
        "\n",
        "    for idx, (i, j) in enumerate(members):\n",
        "        C[idx, i] = 1\n",
        "        C[idx, j] = -1\n",
        "\n",
        "    return C\n",
        "\n",
        "width = 4\n",
        "height = 1\n",
        "dot_spacing = 0.25\n",
        "\n",
        "N = node_matrix(width,height,dot_spacing)\n",
        "C = connectivity_matrix(width,height,dot_spacing)\n",
        "\n",
        "print(\"Node matrix \\n\",N)\n",
        "print()\n",
        "print(\"Connectivity Matrix \\n\",C)\n",
        "\n",
        "\n",
        "\n",
        "\n",
        "\n"
      ],
      "metadata": {
        "id": "7hM4WJz1ibQb",
        "colab": {
          "base_uri": "https://localhost:8080/"
        },
        "outputId": "3f656021-06cb-4b97-fe05-db5b45937bf5"
      },
      "execution_count": 2,
      "outputs": [
        {
          "output_type": "stream",
          "name": "stdout",
          "text": [
            "Node matrix \n",
            " [[0.   0.25 0.5  0.75 1.   1.25 1.5  1.75 2.   2.25 2.5  2.75 3.   3.25\n",
            "  3.5  3.75 4.   0.   0.25 0.5  0.75 1.   1.25 1.5  1.75 2.   2.25 2.5\n",
            "  2.75 3.   3.25 3.5  3.75 4.   0.   0.25 0.5  0.75 1.   1.25 1.5  1.75\n",
            "  2.   2.25 2.5  2.75 3.   3.25 3.5  3.75 4.   0.   0.25 0.5  0.75 1.\n",
            "  1.25 1.5  1.75 2.   2.25 2.5  2.75 3.   3.25 3.5  3.75 4.   0.   0.25\n",
            "  0.5  0.75 1.   1.25 1.5  1.75 2.   2.25 2.5  2.75 3.   3.25 3.5  3.75\n",
            "  4.  ]\n",
            " [0.   0.   0.   0.   0.   0.   0.   0.   0.   0.   0.   0.   0.   0.\n",
            "  0.   0.   0.   0.25 0.25 0.25 0.25 0.25 0.25 0.25 0.25 0.25 0.25 0.25\n",
            "  0.25 0.25 0.25 0.25 0.25 0.25 0.5  0.5  0.5  0.5  0.5  0.5  0.5  0.5\n",
            "  0.5  0.5  0.5  0.5  0.5  0.5  0.5  0.5  0.5  0.75 0.75 0.75 0.75 0.75\n",
            "  0.75 0.75 0.75 0.75 0.75 0.75 0.75 0.75 0.75 0.75 0.75 0.75 1.   1.\n",
            "  1.   1.   1.   1.   1.   1.   1.   1.   1.   1.   1.   1.   1.   1.\n",
            "  1.  ]]\n",
            "\n",
            "Connectivity Matrix \n",
            " [[ 1. -1.  0. ...  0.  0.  0.]\n",
            " [ 1.  0.  0. ...  0.  0.  0.]\n",
            " [ 1.  0.  0. ...  0.  0.  0.]\n",
            " ...\n",
            " [ 0.  0.  0. ...  1.  0.  0.]\n",
            " [ 0.  0.  0. ...  0.  1. -1.]\n",
            " [ 0.  0.  0. ...  0.  1.  0.]]\n"
          ]
        }
      ]
    },
    {
      "cell_type": "markdown",
      "source": [
        "Step 2: Plot the structure given the node matrix and connectivity matrix."
      ],
      "metadata": {
        "id": "Wl94iU-klUMP"
      }
    },
    {
      "cell_type": "code",
      "source": [
        "\n",
        "def plot_structure(N, C):\n",
        "    plt.figure()\n",
        "\n",
        "    # Plot nodes\n",
        "    plt.scatter(N[0], N[1], color='grey')\n",
        "\n",
        "    # Plot connections\n",
        "    for i in range(C.shape[1]):\n",
        "        connected_indices = np.where(C[:, i] != 0)[0]\n",
        "        for idx in connected_indices:\n",
        "            if C[idx, i] == 1:  # Connection towards the node\n",
        "                other_node_idx = np.where(C[idx] == -1)[0][0]\n",
        "                plt.plot([N[0, i], N[0, other_node_idx]],[N[1, i], N[1, other_node_idx]], color='grey')\n",
        "\n",
        "    plt.xlabel(\"x\")\n",
        "    plt.ylabel(\"y\")\n",
        "    plt.gca().set_aspect('equal', adjustable='box')\n",
        "    plt.grid(True)\n",
        "    plt.show()\n",
        "\n",
        "# Plot the structure\n",
        "plot_structure(N, C)\n",
        "\n",
        "\n",
        "m,n = C.shape\n",
        "\n",
        "print(f\"structure has {m} members and {n} nodes\")\n",
        "\n",
        "\n",
        "\n"
      ],
      "metadata": {
        "colab": {
          "base_uri": "https://localhost:8080/",
          "height": 221
        },
        "id": "ifZjqTF3kq_F",
        "outputId": "c7f6572b-2112-4391-dc4d-94e1161341d5"
      },
      "execution_count": 3,
      "outputs": [
        {
          "output_type": "display_data",
          "data": {
            "text/plain": [
              "<Figure size 640x480 with 1 Axes>"
            ],
            "image/png": "[encoded data removed]"
          },
          "metadata": {}
        },
        {
          "output_type": "stream",
          "name": "stdout",
          "text": [
            "structure has 276 members and 85 nodes\n"
          ]
        }
      ]
    },
    {
      "cell_type": "markdown",
      "source": [
        "Step 3: Minimize mass using cvxpy.\n"
      ],
      "metadata": {
        "id": "X9tP0T_10fKL"
      }
    },
    {
      "cell_type": "code",
      "source": [
        "lam = cp.Variable(m) #force densities of the bars (compression)\n",
        "gam = cp.Variable(m) #force densities of the cables (tension)\n",
        "R = cp.Variable((2,n)) #Reaction forces at the nodes\n",
        "\n",
        "M = N@C.T #Member Matrix\n",
        "b = [] #list of all the Euclidean norms (magnitudes) of each of the member vectors\n",
        "for i in range(m):\n",
        "  b.append(np.sqrt(M[:,i][0]**2 + M[:,i][1]**2))\n",
        "\n",
        "P = 700 #magnitude of the external force in N\n",
        "\n",
        "\n",
        "\n",
        "Fext = np.zeros((2,n)) #external forces are enacted at the nodes\n",
        "Fext[1,50] = -P #the external force is only enacted at the 50th node (forced-coded in) in the negative y-direction\n",
        "\n",
        "ii = [] #free nodes\n",
        "\n",
        "for i in range(n):\n",
        "  if N[0,i] == 0:\n",
        "    continue\n",
        "  ii.append(i) #free nodes are all the nodes except the ones at x = 0\n",
        "\n",
        "#constraints are the equilibrium constraints and that the force densities should be positive. The equilibrium constraint has distinctions between bars and cables which will come out of the optimization\n",
        "\n",
        "Constraints = [N@C.T@cp.diag(gam)@C - N@C.T@cp.diag(lam)@C - Fext - R == 0, R[:,ii] == 0, lam >=0, gam >= 0]\n",
        "\n",
        "Cost = cp.norm1(cp.multiply(gam,b)) + cp.norm1(cp.multiply(lam,b)) #minimize the 1 norm will output the mimimum mass strucutre\n",
        "prob = cp.Problem(cp.Minimize(Cost), Constraints)\n",
        "prob.solve()\n",
        "\n",
        "weight_bar = [] #the next iteration is now going to weight the inverses of the compressive (bars) and tensile (cables) force densities\n",
        "weight_cable =[]\n",
        "\n",
        "#cannot invert elementwise each force because some are very close to zero (1e-23) which will blow up the weights, so we constrain the weights to not invert the very small values\n",
        "\n",
        "for i in range(len(lam.value)):\n",
        "  if lam.value[i] <= 0:\n",
        "    weight_bar.append(0)\n",
        "  else:\n",
        "    weight_bar.append(lam.value[i]**-1)\n",
        "\n",
        "for i in range(len(gam.value)):\n",
        "  if gam.value[i] <= 0:\n",
        "    weight_cable.append(0)\n",
        "  else:\n",
        "    weight_cable.append(gam.value[i]**-1)\n",
        "\n",
        "Cost = cp.norm1(cp.multiply(lam,cp.multiply(b,weight_bar))) + cp.norm1(cp.multiply(gam,cp.multiply(b,weight_cable))) #minimize the new cost function\n",
        "prob = cp.Problem(cp.Minimize(Cost), Constraints)\n",
        "prob.solve()\n",
        "\n",
        "\n",
        "\n",
        "\n"
      ],
      "metadata": {
        "colab": {
          "base_uri": "https://localhost:8080/"
        },
        "id": "5SCTg5gF0lcO",
        "outputId": "58ec32c0-5181-45e4-982b-6b64a990d2e4"
      },
      "execution_count": 10,
      "outputs": [
        {
          "output_type": "execute_result",
          "data": {
            "text/plain": [
              "52.435150745903556"
            ]
          },
          "metadata": {},
          "execution_count": 10
        }
      ]
    },
    {
      "cell_type": "markdown",
      "source": [
        "Step 4: Plot the structure with the bars in compression and the cables in tension."
      ],
      "metadata": {
        "id": "YEulbap9N1F5"
      }
    },
    {
      "cell_type": "code",
      "source": [
        "def plot_structure_with_force_density(N, C, sig_b, sig_s):\n",
        "    ax = plt.figure()\n",
        "\n",
        "    # Plot nodes\n",
        "    plt.scatter(N[0], N[1], color='grey')\n",
        "\n",
        "    # Plot connections\n",
        "    for i in range(C.shape[1]):\n",
        "        connected_indices = np.where(C[:, i] != 0)[0]\n",
        "        for idx in connected_indices:\n",
        "            if C[idx, i] == 1:  # Connection towards the node\n",
        "                other_node_idx = np.where(C[idx] == -1)[0][0]\n",
        "                color = 'blue' if sig_b[idx] > 1e-3 else 'red' if sig_s[idx] > 1e-3 else 'grey' #getting rid of the members where the force densities are less than 0.001\n",
        "                plt.plot([N[0, i], N[0, other_node_idx]],\n",
        "                         [N[1, i], N[1, other_node_idx]], color=color)\n",
        "\n",
        "    plt.title(\"Structure with Force Density\")\n",
        "    plt.xlabel(\"X\")\n",
        "    plt.ylabel(\"Y\")\n",
        "    plt.gca().set_aspect('equal', adjustable='box')\n",
        "    plt.show()\n",
        "\n",
        "\n",
        "plot_structure_with_force_density(N, C, lam.value, gam.value)\n",
        "\n",
        "force_density_bars = []\n",
        "force_density_cables = []\n",
        "\n",
        "for i in lam.value:\n",
        "  if i > 1e-3:\n",
        "    force_density_bars.append(i)\n",
        "\n",
        "for i in gam.value:\n",
        "  if i > 1e-3:\n",
        "    force_density_cables.append(i)\n",
        "\n",
        "\n"
      ],
      "metadata": {
        "colab": {
          "base_uri": "https://localhost:8080/",
          "height": 226
        },
        "id": "10Arow1K9bGx",
        "outputId": "5756d33c-9943-4ff3-f4fd-ae0c6c22f268"
      },
      "execution_count": 11,
      "outputs": [
        {
          "output_type": "display_data",
          "data": {
            "text/plain": [
              "<Figure size 640x480 with 1 Axes>"
            ],
            "image/png": "[encoded data removed]"
          },
          "metadata": {}
        }
      ]
    },
    {
      "cell_type": "markdown",
      "source": [
        "Step 6: We will now compute the mass of the structure and the minimum cross-sectional radius of the members"
      ],
      "metadata": {
        "id": "fXD5bgm4gyJI"
      }
    },
    {
      "cell_type": "code",
      "source": [
        "# the material is steel so the density, yield stress, and Young's Modulus are given\n",
        "\n",
        "rho = 7850 #kg/m^3\n",
        "E = 200e9 #Pa\n",
        "sig_yield = 250e6 #Pa\n",
        "\n",
        "A_cables = []\n",
        "A_bars = []\n",
        "m_bars = 0\n",
        "m_cables = 0\n",
        "\n",
        "for i in range(len(b)):\n",
        "  if gam.value[i] > 1e-3:\n",
        "    A_cable = gam.value[i]*b[i]/sig_yield\n",
        "    A_cables.append(A_cable)\n",
        "    m_cables += rho*A_cable*b[i]\n",
        "  if lam.value[i] > 1e-3:\n",
        "    beta = (np.pi*E)/(4*b[i]**2)\n",
        "    A_bar = np.sqrt(lam.value[i]*b[i]/beta)\n",
        "    A_bars.append(A_bar) #the bars will buckle before yielding so their areas are limited by the buckling stress\n",
        "    m_bars += rho*A_bar*b[i]\n",
        "\n",
        "m_structure = m_bars + m_cables\n",
        "\n",
        "\n",
        "\n",
        "print(\"minimum mass of the structure: \\n\",m_structure,'kg')\n",
        "\n",
        "radii_bars = np.array([1e3*np.sqrt(i/np.pi) for i in A_bars])\n",
        "radii_cables = np.array([1e3*np.sqrt(i/np.pi) for i in A_cables])\n",
        "\n",
        "\n",
        "\n",
        "print('radii of the bars \\n',radii_bars.T,'mm')\n",
        "\n",
        "\n",
        "print('radii of the cables \\n',radii_cables.T,'mm')\n",
        "\n",
        "\n",
        "\n",
        "\n",
        "\n"
      ],
      "metadata": {
        "colab": {
          "base_uri": "https://localhost:8080/"
        },
        "id": "WUqLvr_ihI8l",
        "outputId": "34bbfe71-ae2f-4cab-eb27-7a399fe9c4dc"
      },
      "execution_count": 12,
      "outputs": [
        {
          "output_type": "stream",
          "name": "stdout",
          "text": [
            "minimum mass of the structure: \n",
            " 1.925283727554865 kg\n",
            "radii of the bars \n",
            " [3.15251107 2.51343905 3.15251107 3.15251107 3.15251107 2.89817503\n",
            " 2.51343905 2.82283335 2.11354185 2.74092473 2.11354185 2.74092472\n",
            " 2.74092471 2.7409247  2.30483377 2.51343905 2.30483377 2.30483377\n",
            " 2.30483377 2.51343905 2.51343905 1.62976356 2.11354192 1.93812642\n",
            " 2.51343898 2.51343905 2.51343905 2.51343905 2.11354192 2.51343898\n",
            " 2.51343905 2.51343905 1.62976356 1.62976356 2.51343896 2.51343905] mm\n",
            "radii of the cables \n",
            " [0.47203486 0.47203485 0.79386486 0.79386481 0.79386486 0.79386486\n",
            " 0.56134725 0.79386482 0.79386486 0.79386486 0.47203486 0.56134725\n",
            " 0.66755809 0.79386482 0.79386486 0.79386486 1.76619277 0.79386486\n",
            " 1.76619277 1.76619277 1.76619277 1.49270533 0.79386486 1.41610462\n",
            " 0.56134721 1.33511625 0.56134721 1.33511624 1.33511622 1.33511621\n",
            " 0.94406974 0.79386486 0.94406974 0.94406974 0.94406974 0.79386486] mm\n"
          ]
        }
      ]
    },
    {
      "cell_type": "markdown",
      "source": [
        "In conclusion, the minimum mass of the structure is about 2 kg if a tip force of 750 N is exerted in the downward direction. This makes sense since a 4 meter long cantilever beam can withstand a lot of deflection. To carry this further, I can create constraints where the end nodes can have reaction moments on it which is more realistic for a cantilever beam delfection problem. This would require to expand the equilibrium equation to include moments. To apply specifically to an airfoil, I ould modifiy the code to instead plot a airfoil spline where the nodes that are outside of the border would be discarded. I could apply constraints where the surface nodes are the only nodes that will have a the lift force applied to it. Lastly, I could constrain the nodes to not be able to move. This code would then output the minimum mass structure for an airfoil truss."
      ],
      "metadata": {
        "id": "u2nJgYp3Tg6J"
      }
    }
  ]
}